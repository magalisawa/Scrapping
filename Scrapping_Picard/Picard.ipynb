{
 "cells": [
  {
   "cell_type": "code",
   "execution_count": 1,
   "metadata": {},
   "outputs": [],
   "source": [
    "from selenium import webdriver\n",
    "from selenium.webdriver.common.keys import Keys\n",
    "from selenium.webdriver.common.action_chains import ActionChains\n",
    "import pandas as pd"
   ]
  },
  {
   "cell_type": "code",
   "execution_count": 2,
   "metadata": {},
   "outputs": [
    {
     "name": "stdout",
     "output_type": "stream",
     "text": [
      "Requirement already satisfied: selenium in c:\\users\\maaximaag\\anaconda3\\lib\\site-packages (3.141.0)\n",
      "Requirement already satisfied: urllib3 in c:\\users\\maaximaag\\anaconda3\\lib\\site-packages (from selenium) (1.24.1)\n",
      "Note: you may need to restart the kernel to use updated packages.\n"
     ]
    }
   ],
   "source": [
    "pip install selenium"
   ]
  },
  {
   "cell_type": "code",
   "execution_count": 3,
   "metadata": {},
   "outputs": [],
   "source": [
    "executable_path='C:\\\\Users\\\\Maaximaag\\\\Desktop\\\\consumact\\\\chromedriver_win32_79\\\\chromedriver'"
   ]
  },
  {
   "cell_type": "code",
   "execution_count": 4,
   "metadata": {},
   "outputs": [],
   "source": [
    "#executable_path='C:\\\\Users\\\\Maaximaag\\\\Downloads\\\\chromedriver_win32(1)\\\\chromedriver'"
   ]
  },
  {
   "cell_type": "code",
   "execution_count": 5,
   "metadata": {},
   "outputs": [],
   "source": [
    "browser = webdriver.Chrome(executable_path)\n",
    "browser.get('https://www.picard.fr/plats-cuisines')"
   ]
  },
  {
   "cell_type": "code",
   "execution_count": 6,
   "metadata": {
    "scrolled": true
   },
   "outputs": [],
   "source": [
    "browser.maximize_window()"
   ]
  },
  {
   "cell_type": "code",
   "execution_count": 7,
   "metadata": {},
   "outputs": [],
   "source": [
    "import numpy as np\n",
    "import time\n",
    "def generate_number_delay():\n",
    "    \n",
    "    mean = 4\n",
    "    sigma = 0.8\n",
    "    delai = np.random.normal(mean,sigma,1)[0]\n",
    "    while delai<0:\n",
    "        delai = np.random.normal(mean,sigma,1)[0]\n",
    "    time.sleep(delai)\n",
    "    \n",
    "#print(\"frite\")\n",
    "generate_number_delay()"
   ]
  },
  {
   "cell_type": "code",
   "execution_count": 8,
   "metadata": {},
   "outputs": [],
   "source": [
    "cookie= browser.find_element_by_css_selector('a.optanon-alert-box-close')\n",
    "cookie.click()\n",
    "generate_number_delay()"
   ]
  },
  {
   "cell_type": "code",
   "execution_count": 9,
   "metadata": {
    "scrolled": true
   },
   "outputs": [
    {
     "name": "stdout",
     "output_type": "stream",
     "text": [
      "titre2 = Gratin de pâte, épinard, poireau et sauce au comté\n",
      "prix2 = 1.80 €\n",
      "titre2 = Risotto aux asperges vertes\n",
      "prix2 = 3.50 €\n",
      "titre2 = 4 tomates farcies\n",
      "prix2 = 4.20 €\n",
      "titre2 = Lasagnes à la bolognaise\n",
      "prix2 = 3.50 €\n"
     ]
    }
   ],
   "source": [
    "liste_titre = []\n",
    "liste_prix = []\n",
    "\n",
    "\n",
    "for i in range(4):\n",
    "    d = {}\n",
    "    liste_element_recherche1 = browser.find_elements_by_class_name('push_produit_01')\n",
    "    liste_element_recherche1[i].click()\n",
    "    browser.execute_script(\"window.open(document.querySelector(\\\"#List_produit_0\" +str(i)+ \"> div.desc > a:nth-child(2)\\\"));\") \n",
    "    browser.switch_to.window(browser.window_handles[1])\n",
    "    \n",
    "    titre2 = browser.find_element_by_xpath('//*[@id=\"body_layer\"]/div/div/h1/span[2]/b').text\n",
    "    print(\"titre2 =\",titre2)\n",
    "    liste_titre.append(titre2)\n",
    "\n",
    "    prix2 = browser.find_element_by_class_name('last_price').text\n",
    "    print(\"prix2 =\",prix2)\n",
    "    liste_prix.append(prix2)\n",
    "    browser.close()\n",
    "    browser.switch_to.window(browser.window_handles[0])"
   ]
  },
  {
   "cell_type": "code",
   "execution_count": null,
   "metadata": {},
   "outputs": [],
   "source": []
  },
  {
   "cell_type": "code",
   "execution_count": null,
   "metadata": {},
   "outputs": [],
   "source": []
  }
 ],
 "metadata": {
  "kernelspec": {
   "display_name": "Python 3",
   "language": "python",
   "name": "python3"
  },
  "language_info": {
   "codemirror_mode": {
    "name": "ipython",
    "version": 3
   },
   "file_extension": ".py",
   "mimetype": "text/x-python",
   "name": "python",
   "nbconvert_exporter": "python",
   "pygments_lexer": "ipython3",
   "version": "3.7.7"
  }
 },
 "nbformat": 4,
 "nbformat_minor": 2
}
